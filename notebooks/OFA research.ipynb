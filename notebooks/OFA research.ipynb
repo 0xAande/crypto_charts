{
 "cells": [
  {
   "cell_type": "code",
   "execution_count": 1,
   "id": "81330867",
   "metadata": {},
   "outputs": [],
   "source": [
    "import os\n",
    "import sys\n",
    "\n",
    "sys.path.append(os.path.realpath('..'))\n",
    "\n",
    "import pandas as pd\n",
    "pd.options.display.max_colwidth = 100\n",
    "\n",
    "import numpy as np\n",
    "import seaborn as sns\n",
    "import plotly.express as px\n",
    "\n",
    "import matplotlib.pyplot as plt\n",
    "import matplotlib.ticker as mtick\n",
    "from matplotlib.ticker import FuncFormatter\n",
    "\n",
    "def keth(x, pos):\n",
    "    'The two args are the value and tick position'\n",
    "    return '%1.fK' % (x * 1e-3)\n",
    "keth_formatter = FuncFormatter(keth)"
   ]
  },
  {
   "cell_type": "code",
   "execution_count": 2,
   "id": "e1de4be2",
   "metadata": {},
   "outputs": [
    {
     "name": "stderr",
     "output_type": "stream",
     "text": [
      "/Users/ankitchiplunkar/projects/crypto_charts/venv/lib/python3.10/site-packages/google/auth/_default.py:83: UserWarning: Your application has authenticated using end user credentials from Google Cloud SDK without a quota project. You might receive a \"quota exceeded\" or \"API not enabled\" error. We recommend you rerun `gcloud auth application-default login` and make sure a quota project is added. Or you can use service accounts instead. For more information about service accounts, see https://cloud.google.com/docs/authentication/\n",
      "  warnings.warn(_CLOUD_SDK_CREDENTIALS_WARNING)\n"
     ]
    }
   ],
   "source": [
    "df = pd.read_gbq(\"\"\"\n",
    "select concat(CAST(EXTRACT(MONTH from block_timestamp) as string), \"-\", CAST(EXTRACT(YEAR from block_timestamp) as string)) as monthyear, \n",
    "CASE\n",
    "    WHEN num_token_transfers > 0 THEN \"ERC20\"\n",
    "    ELSE \"OTHER\"\n",
    "END as is_erc20,\n",
    "CASE\n",
    "    WHEN ((num_token_transfers > 1) and (unique_token > 1)) THEN \"SWAP\"\n",
    "    ELSE \"OTHER\"\n",
    "END as is_swap,\n",
    "sum(pf.priority_fees) as priority_fees, sum(df.direct_payment) as direct_payment\n",
    " from\n",
    "(SELECT \n",
    "  *, \n",
    "  receipt_gas_used*cast(max_priority_fee_per_gas as numeric)/pow(10, 18) as priority_fees  \n",
    "  FROM `bigquery-public-data.crypto_ethereum.transactions` WHERE DATE(block_timestamp) > \"2022-10-01\") as pf\n",
    "LEFT JOIN\n",
    "(SELECT transaction_hash as tx_hash, value/pow(10, 18) as direct_payment\n",
    "from\n",
    "  (  SELECT number, timestamp, miner \n",
    "FROM `bigquery-public-data.crypto_ethereum.blocks` \n",
    "WHERE DATE(timestamp) > \"2022-10-01\") as b\n",
    "inner join \n",
    "(\n",
    "  SELECT block_number, value, transaction_hash, to_address FROM `bigquery-public-data.crypto_ethereum.traces` \n",
    "WHERE DATE(block_timestamp) > \"2022-10-01\"\n",
    "and value > 0\n",
    "and status = 1\n",
    ") as tr\n",
    "on b.number = tr.block_number and tr.to_address = b.miner) as df\n",
    "on pf.hash = df.tx_hash\n",
    "LEFT JOIN\n",
    "(SELECT \n",
    "  transaction_hash, count(1) as num_token_transfers, count(distinct(token_address)) as unique_token\n",
    "  FROM `bigquery-public-data.crypto_ethereum.token_transfers` WHERE DATE(block_timestamp) > \"2022-10-01\"\n",
    "  GROUP BY 1) as tt\n",
    "  ON tt.transaction_hash = pf.hash\n",
    "GROUP BY 1, 2, 3\n",
    "\"\"\")"
   ]
  },
  {
   "cell_type": "code",
   "execution_count": 3,
   "id": "7715755f",
   "metadata": {},
   "outputs": [
    {
     "data": {
      "text/html": [
       "<div>\n",
       "<style scoped>\n",
       "    .dataframe tbody tr th:only-of-type {\n",
       "        vertical-align: middle;\n",
       "    }\n",
       "\n",
       "    .dataframe tbody tr th {\n",
       "        vertical-align: top;\n",
       "    }\n",
       "\n",
       "    .dataframe thead th {\n",
       "        text-align: right;\n",
       "    }\n",
       "</style>\n",
       "<table border=\"1\" class=\"dataframe\">\n",
       "  <thead>\n",
       "    <tr style=\"text-align: right;\">\n",
       "      <th></th>\n",
       "      <th>monthyear</th>\n",
       "      <th>is_erc20</th>\n",
       "      <th>is_swap</th>\n",
       "      <th>priority_fees</th>\n",
       "      <th>direct_payment</th>\n",
       "    </tr>\n",
       "  </thead>\n",
       "  <tbody>\n",
       "    <tr>\n",
       "      <th>0</th>\n",
       "      <td>1-2023</td>\n",
       "      <td>OTHER</td>\n",
       "      <td>OTHER</td>\n",
       "      <td>3530.242246</td>\n",
       "      <td>441.815272</td>\n",
       "    </tr>\n",
       "    <tr>\n",
       "      <th>1</th>\n",
       "      <td>12-2022</td>\n",
       "      <td>ERC20</td>\n",
       "      <td>SWAP</td>\n",
       "      <td>4906.532709</td>\n",
       "      <td>5738.264067</td>\n",
       "    </tr>\n",
       "    <tr>\n",
       "      <th>2</th>\n",
       "      <td>1-2023</td>\n",
       "      <td>ERC20</td>\n",
       "      <td>SWAP</td>\n",
       "      <td>6927.623454</td>\n",
       "      <td>7309.935197</td>\n",
       "    </tr>\n",
       "    <tr>\n",
       "      <th>3</th>\n",
       "      <td>2-2023</td>\n",
       "      <td>ERC20</td>\n",
       "      <td>OTHER</td>\n",
       "      <td>2492.957837</td>\n",
       "      <td>125.627189</td>\n",
       "    </tr>\n",
       "    <tr>\n",
       "      <th>4</th>\n",
       "      <td>11-2022</td>\n",
       "      <td>ERC20</td>\n",
       "      <td>SWAP</td>\n",
       "      <td>8831.658152</td>\n",
       "      <td>18426.435955</td>\n",
       "    </tr>\n",
       "    <tr>\n",
       "      <th>5</th>\n",
       "      <td>10-2022</td>\n",
       "      <td>ERC20</td>\n",
       "      <td>OTHER</td>\n",
       "      <td>3182.467646</td>\n",
       "      <td>66.338198</td>\n",
       "    </tr>\n",
       "    <tr>\n",
       "      <th>6</th>\n",
       "      <td>11-2022</td>\n",
       "      <td>OTHER</td>\n",
       "      <td>OTHER</td>\n",
       "      <td>3383.340502</td>\n",
       "      <td>155.409302</td>\n",
       "    </tr>\n",
       "    <tr>\n",
       "      <th>7</th>\n",
       "      <td>2-2023</td>\n",
       "      <td>OTHER</td>\n",
       "      <td>OTHER</td>\n",
       "      <td>2274.082206</td>\n",
       "      <td>825.133514</td>\n",
       "    </tr>\n",
       "    <tr>\n",
       "      <th>8</th>\n",
       "      <td>12-2022</td>\n",
       "      <td>OTHER</td>\n",
       "      <td>OTHER</td>\n",
       "      <td>2676.753549</td>\n",
       "      <td>310.471656</td>\n",
       "    </tr>\n",
       "    <tr>\n",
       "      <th>9</th>\n",
       "      <td>2-2023</td>\n",
       "      <td>ERC20</td>\n",
       "      <td>SWAP</td>\n",
       "      <td>8543.690708</td>\n",
       "      <td>5597.586042</td>\n",
       "    </tr>\n",
       "    <tr>\n",
       "      <th>10</th>\n",
       "      <td>11-2022</td>\n",
       "      <td>ERC20</td>\n",
       "      <td>OTHER</td>\n",
       "      <td>3060.645267</td>\n",
       "      <td>148.380998</td>\n",
       "    </tr>\n",
       "    <tr>\n",
       "      <th>11</th>\n",
       "      <td>1-2023</td>\n",
       "      <td>ERC20</td>\n",
       "      <td>OTHER</td>\n",
       "      <td>3412.040525</td>\n",
       "      <td>65.711370</td>\n",
       "    </tr>\n",
       "    <tr>\n",
       "      <th>12</th>\n",
       "      <td>12-2022</td>\n",
       "      <td>ERC20</td>\n",
       "      <td>OTHER</td>\n",
       "      <td>2803.436147</td>\n",
       "      <td>68.201561</td>\n",
       "    </tr>\n",
       "    <tr>\n",
       "      <th>13</th>\n",
       "      <td>10-2022</td>\n",
       "      <td>OTHER</td>\n",
       "      <td>OTHER</td>\n",
       "      <td>3546.734069</td>\n",
       "      <td>77.828900</td>\n",
       "    </tr>\n",
       "    <tr>\n",
       "      <th>14</th>\n",
       "      <td>10-2022</td>\n",
       "      <td>ERC20</td>\n",
       "      <td>SWAP</td>\n",
       "      <td>7763.765616</td>\n",
       "      <td>4262.384463</td>\n",
       "    </tr>\n",
       "  </tbody>\n",
       "</table>\n",
       "</div>"
      ],
      "text/plain": [
       "   monthyear is_erc20 is_swap  priority_fees  direct_payment\n",
       "0     1-2023    OTHER   OTHER    3530.242246      441.815272\n",
       "1    12-2022    ERC20    SWAP    4906.532709     5738.264067\n",
       "2     1-2023    ERC20    SWAP    6927.623454     7309.935197\n",
       "3     2-2023    ERC20   OTHER    2492.957837      125.627189\n",
       "4    11-2022    ERC20    SWAP    8831.658152    18426.435955\n",
       "5    10-2022    ERC20   OTHER    3182.467646       66.338198\n",
       "6    11-2022    OTHER   OTHER    3383.340502      155.409302\n",
       "7     2-2023    OTHER   OTHER    2274.082206      825.133514\n",
       "8    12-2022    OTHER   OTHER    2676.753549      310.471656\n",
       "9     2-2023    ERC20    SWAP    8543.690708     5597.586042\n",
       "10   11-2022    ERC20   OTHER    3060.645267      148.380998\n",
       "11    1-2023    ERC20   OTHER    3412.040525       65.711370\n",
       "12   12-2022    ERC20   OTHER    2803.436147       68.201561\n",
       "13   10-2022    OTHER   OTHER    3546.734069       77.828900\n",
       "14   10-2022    ERC20    SWAP    7763.765616     4262.384463"
      ]
     },
     "execution_count": 3,
     "metadata": {},
     "output_type": "execute_result"
    }
   ],
   "source": [
    "df"
   ]
  },
  {
   "cell_type": "code",
   "execution_count": 4,
   "id": "4fddc66b",
   "metadata": {},
   "outputs": [],
   "source": [
    "total = df.sum()\n",
    "is_erc20 = df[df['is_erc20'] == 'ERC20'].sum()\n",
    "is_swap = df[df['is_swap'] == 'SWAP'].sum()\n",
    "d = {\n",
    "        'type': ['All Transactions', 'ERC20 transfers', 'Swaps'], \n",
    "        'priority_fees': [total.priority_fees, is_erc20.priority_fees, is_swap.priority_fees],\n",
    "        'direct_payment': [total.direct_payment, is_erc20.direct_payment, is_swap.direct_payment]\n",
    "}\n",
    "df_final = pd.DataFrame(data=d)"
   ]
  },
  {
   "cell_type": "code",
   "execution_count": 5,
   "id": "da1a11d5",
   "metadata": {},
   "outputs": [
    {
     "data": {
      "image/png": "[encoded data removed]",
      "text/plain": [
       "<Figure size 640x480 with 1 Axes>"
      ]
     },
     "metadata": {},
     "output_type": "display_data"
    }
   ],
   "source": [
    "ax = df_final.set_index('type').plot(kind='bar', stacked=True)\n",
    "ax.set_title('Validator payments across transaction types since 1st Oct 2022')\n",
    "ax.set_xlabel('Type of the transactions')\n",
    "ax.set_ylabel('Validator payments in ETH')\n",
    "ax.yaxis.set_major_formatter(keth_formatter)\n",
    "for tick in ax.get_xticklabels():\n",
    "    tick.set_rotation(0)"
   ]
  },
  {
   "cell_type": "code",
   "execution_count": 6,
   "id": "dd5b909a",
   "metadata": {},
   "outputs": [
    {
     "data": {
      "application/vnd.plotly.v1+json": {
       "config": {
        "plotlyServerURL": "https://plot.ly"
       },
       "data": [
        {
         "hovertemplate": "Fee Type=priority_fees<br>Validator payment in ETH=%{x}<br>Type of transactions=%{y}<extra></extra>",
         "legendgroup": "priority_fees",
         "marker": {
          "color": "#636efa"
         },
         "name": "priority_fees",
         "orientation": "h",
         "showlegend": true,
         "texttemplate": "%{value:,.2s}",
         "type": "funnel",
         "x": [
          67335.97063136881,
          51924.8180591453,
          36973.27063840568
         ],
         "xaxis": "x",
         "y": [
          "All Transactions",
          "ERC20 transfers",
          "Swaps"
         ],
         "yaxis": "y"
        },
        {
         "hovertemplate": "Fee Type=direct_payment<br>Validator payment in ETH=%{x}<br>Type of transactions=%{y}<extra></extra>",
         "legendgroup": "direct_payment",
         "marker": {
          "color": "#EF553B"
         },
         "name": "direct_payment",
         "orientation": "h",
         "showlegend": true,
         "texttemplate": "%{value:,.2s}",
         "type": "funnel",
         "x": [
          43619.52368378094,
          41808.86503923535,
          41334.60572373061
         ],
         "xaxis": "x",
         "y": [
          "All Transactions",
          "ERC20 transfers",
          "Swaps"
         ],
         "yaxis": "y"
        }
       ],
       "layout": {
        "legend": {
         "title": {
          "text": "Fee Type"
         },
         "tracegroupgap": 0
        },
        "template": {
         "data": {
          "bar": [
           {
            "error_x": {
             "color": "#2a3f5f"
            },
            "error_y": {
             "color": "#2a3f5f"
            },
            "marker": {
             "line": {
              "color": "#E5ECF6",
              "width": 0.5
             },
             "pattern": {
              "fillmode": "overlay",
              "size": 10,
              "solidity": 0.2
             }
            },
            "type": "bar"
           }
          ],
          "barpolar": [
           {
            "marker": {
             "line": {
              "color": "#E5ECF6",
              "width": 0.5
             },
             "pattern": {
              "fillmode": "overlay",
              "size": 10,
              "solidity": 0.2
             }
            },
            "type": "barpolar"
           }
          ],
          "carpet": [
           {
            "aaxis": {
             "endlinecolor": "#2a3f5f",
             "gridcolor": "white",
             "linecolor": "white",
             "minorgridcolor": "white",
             "startlinecolor": "#2a3f5f"
            },
            "baxis": {
             "endlinecolor": "#2a3f5f",
             "gridcolor": "white",
             "linecolor": "white",
             "minorgridcolor": "white",
             "startlinecolor": "#2a3f5f"
            },
            "type": "carpet"
           }
          ],
          "choropleth": [
           {
            "colorbar": {
             "outlinewidth": 0,
             "ticks": ""
            },
            "type": "choropleth"
           }
          ],
          "contour": [
           {
            "colorbar": {
             "outlinewidth": 0,
             "ticks": ""
            },
            "colorscale": [
             [
              0,
              "#0d0887"
             ],
             [
              0.1111111111111111,
              "#46039f"
             ],
             [
              0.2222222222222222,
              "#7201a8"
             ],
             [
              0.3333333333333333,
              "#9c179e"
             ],
             [
              0.4444444444444444,
              "#bd3786"
             ],
             [
              0.5555555555555556,
              "#d8576b"
             ],
             [
              0.6666666666666666,
              "#ed7953"
             ],
             [
              0.7777777777777778,
              "#fb9f3a"
             ],
             [
              0.8888888888888888,
              "#fdca26"
             ],
             [
              1,
              "#f0f921"
             ]
            ],
            "type": "contour"
           }
          ],
          "contourcarpet": [
           {
            "colorbar": {
             "outlinewidth": 0,
             "ticks": ""
            },
            "type": "contourcarpet"
           }
          ],
          "heatmap": [
           {
            "colorbar": {
             "outlinewidth": 0,
             "ticks": ""
            },
            "colorscale": [
             [
              0,
              "#0d0887"
             ],
             [
              0.1111111111111111,
              "#46039f"
             ],
             [
              0.2222222222222222,
              "#7201a8"
             ],
             [
              0.3333333333333333,
              "#9c179e"
             ],
             [
              0.4444444444444444,
              "#bd3786"
             ],
             [
              0.5555555555555556,
              "#d8576b"
             ],
             [
              0.6666666666666666,
              "#ed7953"
             ],
             [
              0.7777777777777778,
              "#fb9f3a"
             ],
             [
              0.8888888888888888,
              "#fdca26"
             ],
             [
              1,
              "#f0f921"
             ]
            ],
            "type": "heatmap"
           }
          ],
          "heatmapgl": [
           {
            "colorbar": {
             "outlinewidth": 0,
             "ticks": ""
            },
            "colorscale": [
             [
              0,
              "#0d0887"
             ],
             [
              0.1111111111111111,
              "#46039f"
             ],
             [
              0.2222222222222222,
              "#7201a8"
             ],
             [
              0.3333333333333333,
              "#9c179e"
             ],
             [
              0.4444444444444444,
              "#bd3786"
             ],
             [
              0.5555555555555556,
              "#d8576b"
             ],
             [
              0.6666666666666666,
              "#ed7953"
             ],
             [
              0.7777777777777778,
              "#fb9f3a"
             ],
             [
              0.8888888888888888,
              "#fdca26"
             ],
             [
              1,
              "#f0f921"
             ]
            ],
            "type": "heatmapgl"
           }
          ],
          "histogram": [
           {
            "marker": {
             "pattern": {
              "fillmode": "overlay",
              "size": 10,
              "solidity": 0.2
             }
            },
            "type": "histogram"
           }
          ],
          "histogram2d": [
           {
            "colorbar": {
             "outlinewidth": 0,
             "ticks": ""
            },
            "colorscale": [
             [
              0,
              "#0d0887"
             ],
             [
              0.1111111111111111,
              "#46039f"
             ],
             [
              0.2222222222222222,
              "#7201a8"
             ],
             [
              0.3333333333333333,
              "#9c179e"
             ],
             [
              0.4444444444444444,
              "#bd3786"
             ],
             [
              0.5555555555555556,
              "#d8576b"
             ],
             [
              0.6666666666666666,
              "#ed7953"
             ],
             [
              0.7777777777777778,
              "#fb9f3a"
             ],
             [
              0.8888888888888888,
              "#fdca26"
             ],
             [
              1,
              "#f0f921"
             ]
            ],
            "type": "histogram2d"
           }
          ],
          "histogram2dcontour": [
           {
            "colorbar": {
             "outlinewidth": 0,
             "ticks": ""
            },
            "colorscale": [
             [
              0,
              "#0d0887"
             ],
             [
              0.1111111111111111,
              "#46039f"
             ],
             [
              0.2222222222222222,
              "#7201a8"
             ],
             [
              0.3333333333333333,
              "#9c179e"
             ],
             [
              0.4444444444444444,
              "#bd3786"
             ],
             [
              0.5555555555555556,
              "#d8576b"
             ],
             [
              0.6666666666666666,
              "#ed7953"
             ],
             [
              0.7777777777777778,
              "#fb9f3a"
             ],
             [
              0.8888888888888888,
              "#fdca26"
             ],
             [
              1,
              "#f0f921"
             ]
            ],
            "type": "histogram2dcontour"
           }
          ],
          "mesh3d": [
           {
            "colorbar": {
             "outlinewidth": 0,
             "ticks": ""
            },
            "type": "mesh3d"
           }
          ],
          "parcoords": [
           {
            "line": {
             "colorbar": {
              "outlinewidth": 0,
              "ticks": ""
             }
            },
            "type": "parcoords"
           }
          ],
          "pie": [
           {
            "automargin": true,
            "type": "pie"
           }
          ],
          "scatter": [
           {
            "fillpattern": {
             "fillmode": "overlay",
             "size": 10,
             "solidity": 0.2
            },
            "type": "scatter"
           }
          ],
          "scatter3d": [
           {
            "line": {
             "colorbar": {
              "outlinewidth": 0,
              "ticks": ""
             }
            },
            "marker": {
             "colorbar": {
              "outlinewidth": 0,
              "ticks": ""
             }
            },
            "type": "scatter3d"
           }
          ],
          "scattercarpet": [
           {
            "marker": {
             "colorbar": {
              "outlinewidth": 0,
              "ticks": ""
             }
            },
            "type": "scattercarpet"
           }
          ],
          "scattergeo": [
           {
            "marker": {
             "colorbar": {
              "outlinewidth": 0,
              "ticks": ""
             }
            },
            "type": "scattergeo"
           }
          ],
          "scattergl": [
           {
            "marker": {
             "colorbar": {
              "outlinewidth": 0,
              "ticks": ""
             }
            },
            "type": "scattergl"
           }
          ],
          "scattermapbox": [
           {
            "marker": {
             "colorbar": {
              "outlinewidth": 0,
              "ticks": ""
             }
            },
            "type": "scattermapbox"
           }
          ],
          "scatterpolar": [
           {
            "marker": {
             "colorbar": {
              "outlinewidth": 0,
              "ticks": ""
             }
            },
            "type": "scatterpolar"
           }
          ],
          "scatterpolargl": [
           {
            "marker": {
             "colorbar": {
              "outlinewidth": 0,
              "ticks": ""
             }
            },
            "type": "scatterpolargl"
           }
          ],
          "scatterternary": [
           {
            "marker": {
             "colorbar": {
              "outlinewidth": 0,
              "ticks": ""
             }
            },
            "type": "scatterternary"
           }
          ],
          "surface": [
           {
            "colorbar": {
             "outlinewidth": 0,
             "ticks": ""
            },
            "colorscale": [
             [
              0,
              "#0d0887"
             ],
             [
              0.1111111111111111,
              "#46039f"
             ],
             [
              0.2222222222222222,
              "#7201a8"
             ],
             [
              0.3333333333333333,
              "#9c179e"
             ],
             [
              0.4444444444444444,
              "#bd3786"
             ],
             [
              0.5555555555555556,
              "#d8576b"
             ],
             [
              0.6666666666666666,
              "#ed7953"
             ],
             [
              0.7777777777777778,
              "#fb9f3a"
             ],
             [
              0.8888888888888888,
              "#fdca26"
             ],
             [
              1,
              "#f0f921"
             ]
            ],
            "type": "surface"
           }
          ],
          "table": [
           {
            "cells": {
             "fill": {
              "color": "#EBF0F8"
             },
             "line": {
              "color": "white"
             }
            },
            "header": {
             "fill": {
              "color": "#C8D4E3"
             },
             "line": {
              "color": "white"
             }
            },
            "type": "table"
           }
          ]
         },
         "layout": {
          "annotationdefaults": {
           "arrowcolor": "#2a3f5f",
           "arrowhead": 0,
           "arrowwidth": 1
          },
          "autotypenumbers": "strict",
          "coloraxis": {
           "colorbar": {
            "outlinewidth": 0,
            "ticks": ""
           }
          },
          "colorscale": {
           "diverging": [
            [
             0,
             "#8e0152"
            ],
            [
             0.1,
             "#c51b7d"
            ],
            [
             0.2,
             "#de77ae"
            ],
            [
             0.3,
             "#f1b6da"
            ],
            [
             0.4,
             "#fde0ef"
            ],
            [
             0.5,
             "#f7f7f7"
            ],
            [
             0.6,
             "#e6f5d0"
            ],
            [
             0.7,
             "#b8e186"
            ],
            [
             0.8,
             "#7fbc41"
            ],
            [
             0.9,
             "#4d9221"
            ],
            [
             1,
             "#276419"
            ]
           ],
           "sequential": [
            [
             0,
             "#0d0887"
            ],
            [
             0.1111111111111111,
             "#46039f"
            ],
            [
             0.2222222222222222,
             "#7201a8"
            ],
            [
             0.3333333333333333,
             "#9c179e"
            ],
            [
             0.4444444444444444,
             "#bd3786"
            ],
            [
             0.5555555555555556,
             "#d8576b"
            ],
            [
             0.6666666666666666,
             "#ed7953"
            ],
            [
             0.7777777777777778,
             "#fb9f3a"
            ],
            [
             0.8888888888888888,
             "#fdca26"
            ],
            [
             1,
             "#f0f921"
            ]
           ],
           "sequentialminus": [
            [
             0,
             "#0d0887"
            ],
            [
             0.1111111111111111,
             "#46039f"
            ],
            [
             0.2222222222222222,
             "#7201a8"
            ],
            [
             0.3333333333333333,
             "#9c179e"
            ],
            [
             0.4444444444444444,
             "#bd3786"
            ],
            [
             0.5555555555555556,
             "#d8576b"
            ],
            [
             0.6666666666666666,
             "#ed7953"
            ],
            [
             0.7777777777777778,
             "#fb9f3a"
            ],
            [
             0.8888888888888888,
             "#fdca26"
            ],
            [
             1,
             "#f0f921"
            ]
           ]
          },
          "colorway": [
           "#636efa",
           "#EF553B",
           "#00cc96",
           "#ab63fa",
           "#FFA15A",
           "#19d3f3",
           "#FF6692",
           "#B6E880",
           "#FF97FF",
           "#FECB52"
          ],
          "font": {
           "color": "#2a3f5f"
          },
          "geo": {
           "bgcolor": "white",
           "lakecolor": "white",
           "landcolor": "#E5ECF6",
           "showlakes": true,
           "showland": true,
           "subunitcolor": "white"
          },
          "hoverlabel": {
           "align": "left"
          },
          "hovermode": "closest",
          "mapbox": {
           "style": "light"
          },
          "paper_bgcolor": "white",
          "plot_bgcolor": "#E5ECF6",
          "polar": {
           "angularaxis": {
            "gridcolor": "white",
            "linecolor": "white",
            "ticks": ""
           },
           "bgcolor": "#E5ECF6",
           "radialaxis": {
            "gridcolor": "white",
            "linecolor": "white",
            "ticks": ""
           }
          },
          "scene": {
           "xaxis": {
            "backgroundcolor": "#E5ECF6",
            "gridcolor": "white",
            "gridwidth": 2,
            "linecolor": "white",
            "showbackground": true,
            "ticks": "",
            "zerolinecolor": "white"
           },
           "yaxis": {
            "backgroundcolor": "#E5ECF6",
            "gridcolor": "white",
            "gridwidth": 2,
            "linecolor": "white",
            "showbackground": true,
            "ticks": "",
            "zerolinecolor": "white"
           },
           "zaxis": {
            "backgroundcolor": "#E5ECF6",
            "gridcolor": "white",
            "gridwidth": 2,
            "linecolor": "white",
            "showbackground": true,
            "ticks": "",
            "zerolinecolor": "white"
           }
          },
          "shapedefaults": {
           "line": {
            "color": "#2a3f5f"
           }
          },
          "ternary": {
           "aaxis": {
            "gridcolor": "white",
            "linecolor": "white",
            "ticks": ""
           },
           "baxis": {
            "gridcolor": "white",
            "linecolor": "white",
            "ticks": ""
           },
           "bgcolor": "#E5ECF6",
           "caxis": {
            "gridcolor": "white",
            "linecolor": "white",
            "ticks": ""
           }
          },
          "title": {
           "x": 0.05
          },
          "xaxis": {
           "automargin": true,
           "gridcolor": "white",
           "linecolor": "white",
           "ticks": "",
           "title": {
            "standoff": 15
           },
           "zerolinecolor": "white",
           "zerolinewidth": 2
          },
          "yaxis": {
           "automargin": true,
           "gridcolor": "white",
           "linecolor": "white",
           "ticks": "",
           "title": {
            "standoff": 15
           },
           "zerolinecolor": "white",
           "zerolinewidth": 2
          }
         }
        },
        "title": {
         "text": "Validator rewards (in ETH) by transaction types"
        },
        "xaxis": {
         "anchor": "y",
         "domain": [
          0,
          1
         ],
         "title": {
          "text": "Validator payment in ETH"
         }
        },
        "yaxis": {
         "anchor": "x",
         "domain": [
          0,
          1
         ],
         "title": {
          "text": "Type of transactions"
         }
        }
       }
      }
     },
     "metadata": {},
     "output_type": "display_data"
    }
   ],
   "source": [
    "to_plot = df_final.set_index('type').unstack().reset_index().rename(columns={'level_0': 'Fee Type', 0: 'value'})\n",
    "fig = px.funnel(\n",
    "    to_plot, \n",
    "    x='value', \n",
    "    y='type', \n",
    "    color='Fee Type', \n",
    "    title=\"Validator rewards (in ETH) by transaction types\",\n",
    "    labels={\n",
    "                         \"value\": \"Validator payment in ETH\",\n",
    "                         \"type\": \"Type of transactions\",\n",
    "                     },\n",
    ")\n",
    "fig.update_traces(texttemplate=\"%{value:,.2s}\")\n",
    "fig.show()\n"
   ]
  },
  {
   "cell_type": "code",
   "execution_count": 22,
   "id": "fff53130",
   "metadata": {},
   "outputs": [],
   "source": [
    "total_value = total.priority_fees + total.direct_payment\n",
    "swap_value = is_swap.priority_fees + is_swap.direct_payment\n",
    "others_value = total_value - swap_value\n",
    "df2 = pd.DataFrame({'type': ['Transactions with a swap', 'Others'], 'value': [swap_value, others_value]})"
   ]
  },
  {
   "cell_type": "code",
   "execution_count": 23,
   "id": "2bcb18fe",
   "metadata": {},
   "outputs": [
    {
     "data": {
      "text/plain": [
       "Text(0, 0.5, '')"
      ]
     },
     "execution_count": 23,
     "metadata": {},
     "output_type": "execute_result"
    },
    {
     "data": {
      "image/png": "[encoded data removed]",
      "text/plain": [
       "<Figure size 640x480 with 1 Axes>"
      ]
     },
     "metadata": {},
     "output_type": "display_data"
    }
   ],
   "source": [
    "colors = ['#66b3ff', '#99ff99']\n",
    "explode = (0, 0.1)\n",
    "\n",
    "ax = df2.plot(kind='pie', y='value', \n",
    "              autopct='%1.0f%%', startangle=90, \n",
    "              shadow=False, labels=df2['type'], \n",
    "              legend = False, fontsize=14,\n",
    "              colors=colors, explode=explode,\n",
    "              )\n",
    "ax.set_title('Total validator payments (in ETH) across transaction types (Oct 2022 - Feb 2023)')\n",
    "ax.set_ylabel('')"
   ]
  },
  {
   "cell_type": "code",
   "execution_count": 9,
   "id": "fa2912b6",
   "metadata": {},
   "outputs": [
    {
     "data": {
      "text/html": [
       "<div>\n",
       "<style scoped>\n",
       "    .dataframe tbody tr th:only-of-type {\n",
       "        vertical-align: middle;\n",
       "    }\n",
       "\n",
       "    .dataframe tbody tr th {\n",
       "        vertical-align: top;\n",
       "    }\n",
       "\n",
       "    .dataframe thead th {\n",
       "        text-align: right;\n",
       "    }\n",
       "</style>\n",
       "<table border=\"1\" class=\"dataframe\">\n",
       "  <thead>\n",
       "    <tr style=\"text-align: right;\">\n",
       "      <th></th>\n",
       "      <th>type</th>\n",
       "      <th>value</th>\n",
       "    </tr>\n",
       "  </thead>\n",
       "  <tbody>\n",
       "    <tr>\n",
       "      <th>0</th>\n",
       "      <td>Swaps</td>\n",
       "      <td>78307.876362</td>\n",
       "    </tr>\n",
       "    <tr>\n",
       "      <th>1</th>\n",
       "      <td>Others</td>\n",
       "      <td>32647.617953</td>\n",
       "    </tr>\n",
       "  </tbody>\n",
       "</table>\n",
       "</div>"
      ],
      "text/plain": [
       "     type         value\n",
       "0   Swaps  78307.876362\n",
       "1  Others  32647.617953"
      ]
     },
     "execution_count": 9,
     "metadata": {},
     "output_type": "execute_result"
    }
   ],
   "source": [
    "df2\n"
   ]
  },
  {
   "cell_type": "code",
   "execution_count": 10,
   "id": "25c7d482",
   "metadata": {},
   "outputs": [
    {
     "data": {
      "text/plain": [
       "type       SwapsOthers\n",
       "value    110955.494315\n",
       "dtype: object"
      ]
     },
     "execution_count": 10,
     "metadata": {},
     "output_type": "execute_result"
    }
   ],
   "source": [
    "df2.sum()"
   ]
  },
  {
   "cell_type": "code",
   "execution_count": null,
   "id": "132efdcb",
   "metadata": {},
   "outputs": [],
   "source": []
  }
 ],
 "metadata": {
  "kernelspec": {
   "display_name": "venv",
   "language": "python",
   "name": "python3"
  },
  "language_info": {
   "codemirror_mode": {
    "name": "ipython",
    "version": 3
   },
   "file_extension": ".py",
   "mimetype": "text/x-python",
   "name": "python",
   "nbconvert_exporter": "python",
   "pygments_lexer": "ipython3",
   "version": "3.10.7"
  },
  "vscode": {
   "interpreter": {
    "hash": "3fcdfd7722e34a3c141a22235cda81293d04a9311b7410c8394e2b4ed3c873da"
   }
  }
 },
 "nbformat": 4,
 "nbformat_minor": 5
}
