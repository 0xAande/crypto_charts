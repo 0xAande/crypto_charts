{
 "cells": [
  {
   "cell_type": "code",
   "execution_count": 11,
   "metadata": {},
   "outputs": [],
   "source": [
    "import os\n",
    "import pandas as pd\n",
    "import sys\n",
    "sys.path.append(os.path.realpath('..'))\n",
    "from web3.auto import w3\n",
    "from utils.queries import query_contract_logs\n",
    "from utils.contract import get_abi"
   ]
  },
  {
   "cell_type": "code",
   "execution_count": 12,
   "metadata": {},
   "outputs": [],
   "source": [
    "solo = w3.eth.contract('0x1E0447b19BB6EcFdAe1e4AE1694b0C3659614e4e', abi=get_abi('dydx/SoloMargin'))"
   ]
  },
  {
   "cell_type": "code",
   "execution_count": 7,
   "metadata": {},
   "outputs": [
    {
     "name": "stderr",
     "output_type": "stream",
     "text": [
      "/home/ankit/projects/crypto_charts/venv/lib/python3.6/site-packages/pandas_gbq/gbq.py:555: UserWarning: A progress bar was requested, but there was an error loading the tqdm library. Please install tqdm to use the progress bar functionality.\n",
      "  progress_bar_type=progress_bar_type,\n"
     ]
    }
   ],
   "source": [
    "df = pd.read_gbq(query_contract_logs('0x1E0447b19BB6EcFdAe1e4AE1694b0C3659614e4e'))"
   ]
  },
  {
   "cell_type": "code",
   "execution_count": 8,
   "metadata": {},
   "outputs": [
    {
     "data": {
      "text/html": [
       "<div>\n",
       "<style scoped>\n",
       "    .dataframe tbody tr th:only-of-type {\n",
       "        vertical-align: middle;\n",
       "    }\n",
       "\n",
       "    .dataframe tbody tr th {\n",
       "        vertical-align: top;\n",
       "    }\n",
       "\n",
       "    .dataframe thead th {\n",
       "        text-align: right;\n",
       "    }\n",
       "</style>\n",
       "<table border=\"1\" class=\"dataframe\">\n",
       "  <thead>\n",
       "    <tr style=\"text-align: right;\">\n",
       "      <th></th>\n",
       "      <th>log_index</th>\n",
       "      <th>transaction_hash</th>\n",
       "      <th>transaction_index</th>\n",
       "      <th>address</th>\n",
       "      <th>data</th>\n",
       "      <th>topics</th>\n",
       "      <th>block_timestamp</th>\n",
       "      <th>block_number</th>\n",
       "      <th>block_hash</th>\n",
       "    </tr>\n",
       "  </thead>\n",
       "  <tbody>\n",
       "    <tr>\n",
       "      <th>0</th>\n",
       "      <td>135</td>\n",
       "      <td>0xacf187b9166cd69301ee2b4f79f3684b770c870bec3d...</td>\n",
       "      <td>163</td>\n",
       "      <td>0x1e0447b19bb6ecfdae1e4ae1694b0c3659614e4e</td>\n",
       "      <td>0x00000000000000000000000000000000000000000000...</td>\n",
       "      <td>[0x2bad8bc95088af2c247b30fa2b2e6a0886f88625e09...</td>\n",
       "      <td>2020-04-20 01:36:30+00:00</td>\n",
       "      <td>9906432</td>\n",
       "      <td>0x16355926e4017716af84e2b61508ca13fc0611570378...</td>\n",
       "    </tr>\n",
       "    <tr>\n",
       "      <th>1</th>\n",
       "      <td>132</td>\n",
       "      <td>0xacf187b9166cd69301ee2b4f79f3684b770c870bec3d...</td>\n",
       "      <td>163</td>\n",
       "      <td>0x1e0447b19bb6ecfdae1e4ae1694b0c3659614e4e</td>\n",
       "      <td>0x00000000000000000000000000000000000000000000...</td>\n",
       "      <td>[0xf4626fd1187f91e6761ffb8a6ac3e8d9235a4a92da5...</td>\n",
       "      <td>2020-04-20 01:36:30+00:00</td>\n",
       "      <td>9906432</td>\n",
       "      <td>0x16355926e4017716af84e2b61508ca13fc0611570378...</td>\n",
       "    </tr>\n",
       "    <tr>\n",
       "      <th>2</th>\n",
       "      <td>133</td>\n",
       "      <td>0xacf187b9166cd69301ee2b4f79f3684b770c870bec3d...</td>\n",
       "      <td>163</td>\n",
       "      <td>0x1e0447b19bb6ecfdae1e4ae1694b0c3659614e4e</td>\n",
       "      <td>0x00000000000000000000000000000000000000000000...</td>\n",
       "      <td>[0xf4626fd1187f91e6761ffb8a6ac3e8d9235a4a92da5...</td>\n",
       "      <td>2020-04-20 01:36:30+00:00</td>\n",
       "      <td>9906432</td>\n",
       "      <td>0x16355926e4017716af84e2b61508ca13fc0611570378...</td>\n",
       "    </tr>\n",
       "    <tr>\n",
       "      <th>3</th>\n",
       "      <td>131</td>\n",
       "      <td>0xacf187b9166cd69301ee2b4f79f3684b770c870bec3d...</td>\n",
       "      <td>163</td>\n",
       "      <td>0x1e0447b19bb6ecfdae1e4ae1694b0c3659614e4e</td>\n",
       "      <td>0x000000000000000000000000d9b99266c42d427bb3a6...</td>\n",
       "      <td>[0x91b01baeee3a24b590d112613814d86801005c7ef93...</td>\n",
       "      <td>2020-04-20 01:36:30+00:00</td>\n",
       "      <td>9906432</td>\n",
       "      <td>0x16355926e4017716af84e2b61508ca13fc0611570378...</td>\n",
       "    </tr>\n",
       "    <tr>\n",
       "      <th>4</th>\n",
       "      <td>93</td>\n",
       "      <td>0x3731221266e3efc1cb6c99eb0382370b560bbff05933...</td>\n",
       "      <td>41</td>\n",
       "      <td>0x1e0447b19bb6ecfdae1e4ae1694b0c3659614e4e</td>\n",
       "      <td>0x00000000000000000000000000000000000000000000...</td>\n",
       "      <td>[0x2bad8bc95088af2c247b30fa2b2e6a0886f88625e09...</td>\n",
       "      <td>2020-04-20 02:35:21+00:00</td>\n",
       "      <td>9906688</td>\n",
       "      <td>0x5531dc47262e2709f16c6c68c912754117312fc208c6...</td>\n",
       "    </tr>\n",
       "  </tbody>\n",
       "</table>\n",
       "</div>"
      ],
      "text/plain": [
       "   log_index                                   transaction_hash  \\\n",
       "0        135  0xacf187b9166cd69301ee2b4f79f3684b770c870bec3d...   \n",
       "1        132  0xacf187b9166cd69301ee2b4f79f3684b770c870bec3d...   \n",
       "2        133  0xacf187b9166cd69301ee2b4f79f3684b770c870bec3d...   \n",
       "3        131  0xacf187b9166cd69301ee2b4f79f3684b770c870bec3d...   \n",
       "4         93  0x3731221266e3efc1cb6c99eb0382370b560bbff05933...   \n",
       "\n",
       "   transaction_index                                     address  \\\n",
       "0                163  0x1e0447b19bb6ecfdae1e4ae1694b0c3659614e4e   \n",
       "1                163  0x1e0447b19bb6ecfdae1e4ae1694b0c3659614e4e   \n",
       "2                163  0x1e0447b19bb6ecfdae1e4ae1694b0c3659614e4e   \n",
       "3                163  0x1e0447b19bb6ecfdae1e4ae1694b0c3659614e4e   \n",
       "4                 41  0x1e0447b19bb6ecfdae1e4ae1694b0c3659614e4e   \n",
       "\n",
       "                                                data  \\\n",
       "0  0x00000000000000000000000000000000000000000000...   \n",
       "1  0x00000000000000000000000000000000000000000000...   \n",
       "2  0x00000000000000000000000000000000000000000000...   \n",
       "3  0x000000000000000000000000d9b99266c42d427bb3a6...   \n",
       "4  0x00000000000000000000000000000000000000000000...   \n",
       "\n",
       "                                              topics  \\\n",
       "0  [0x2bad8bc95088af2c247b30fa2b2e6a0886f88625e09...   \n",
       "1  [0xf4626fd1187f91e6761ffb8a6ac3e8d9235a4a92da5...   \n",
       "2  [0xf4626fd1187f91e6761ffb8a6ac3e8d9235a4a92da5...   \n",
       "3  [0x91b01baeee3a24b590d112613814d86801005c7ef93...   \n",
       "4  [0x2bad8bc95088af2c247b30fa2b2e6a0886f88625e09...   \n",
       "\n",
       "            block_timestamp  block_number  \\\n",
       "0 2020-04-20 01:36:30+00:00       9906432   \n",
       "1 2020-04-20 01:36:30+00:00       9906432   \n",
       "2 2020-04-20 01:36:30+00:00       9906432   \n",
       "3 2020-04-20 01:36:30+00:00       9906432   \n",
       "4 2020-04-20 02:35:21+00:00       9906688   \n",
       "\n",
       "                                          block_hash  \n",
       "0  0x16355926e4017716af84e2b61508ca13fc0611570378...  \n",
       "1  0x16355926e4017716af84e2b61508ca13fc0611570378...  \n",
       "2  0x16355926e4017716af84e2b61508ca13fc0611570378...  \n",
       "3  0x16355926e4017716af84e2b61508ca13fc0611570378...  \n",
       "4  0x5531dc47262e2709f16c6c68c912754117312fc208c6...  "
      ]
     },
     "execution_count": 8,
     "metadata": {},
     "output_type": "execute_result"
    }
   ],
   "source": [
    "df.head()"
   ]
  },
  {
   "cell_type": "code",
   "execution_count": null,
   "metadata": {},
   "outputs": [],
   "source": []
  }
 ],
 "metadata": {
  "kernelspec": {
   "display_name": "Python 3",
   "language": "python",
   "name": "python3"
  },
  "language_info": {
   "codemirror_mode": {
    "name": "ipython",
    "version": 3
   },
   "file_extension": ".py",
   "mimetype": "text/x-python",
   "name": "python",
   "nbconvert_exporter": "python",
   "pygments_lexer": "ipython3",
   "version": "3.6.9"
  }
 },
 "nbformat": 4,
 "nbformat_minor": 4
}
