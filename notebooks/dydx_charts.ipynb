{
 "cells": [
  {
   "cell_type": "code",
   "execution_count": 1,
   "metadata": {},
   "outputs": [],
   "source": [
    "import os\n",
    "import pandas as pd\n",
    "import sys\n",
    "sys.path.append(os.path.realpath('..'))\n",
    "from web3.auto import w3\n",
    "from web3._utils.events import get_event_data, event_abi_to_log_topic\n",
    "from utils.queries import query_contract_logs\n",
    "from utils.contract import get_event_name, get_event_list_by_protocol, get_event_abi, decode_log"
   ]
  },
  {
   "cell_type": "code",
   "execution_count": 2,
   "metadata": {},
   "outputs": [],
   "source": [
    "events = get_event_list_by_protocol('dydx')"
   ]
  },
  {
   "cell_type": "code",
   "execution_count": 9,
   "metadata": {},
   "outputs": [
    {
     "name": "stderr",
     "output_type": "stream",
     "text": [
      "Downloading: 100%|██████████| 3966/3966 [00:01<00:00, 2966.46rows/s]\n"
     ]
    }
   ],
   "source": [
    "df = pd.read_gbq(query_contract_logs('0x1E0447b19BB6EcFdAe1e4AE1694b0C3659614e4e', limit=None))"
   ]
  },
  {
   "cell_type": "code",
   "execution_count": 10,
   "metadata": {},
   "outputs": [
    {
     "data": {
      "text/html": [
       "<div>\n",
       "<style scoped>\n",
       "    .dataframe tbody tr th:only-of-type {\n",
       "        vertical-align: middle;\n",
       "    }\n",
       "\n",
       "    .dataframe tbody tr th {\n",
       "        vertical-align: top;\n",
       "    }\n",
       "\n",
       "    .dataframe thead th {\n",
       "        text-align: right;\n",
       "    }\n",
       "</style>\n",
       "<table border=\"1\" class=\"dataframe\">\n",
       "  <thead>\n",
       "    <tr style=\"text-align: right;\">\n",
       "      <th></th>\n",
       "      <th>log_index</th>\n",
       "      <th>transaction_hash</th>\n",
       "      <th>transaction_index</th>\n",
       "      <th>address</th>\n",
       "      <th>data</th>\n",
       "      <th>topics</th>\n",
       "      <th>block_timestamp</th>\n",
       "      <th>block_number</th>\n",
       "      <th>block_hash</th>\n",
       "    </tr>\n",
       "  </thead>\n",
       "  <tbody>\n",
       "    <tr>\n",
       "      <th>0</th>\n",
       "      <td>29</td>\n",
       "      <td>0xf4ce2091e07c4e9944a9a3017dc1d308a0f78448d152...</td>\n",
       "      <td>20</td>\n",
       "      <td>0x1e0447b19bb6ecfdae1e4ae1694b0c3659614e4e</td>\n",
       "      <td>0x00000000000000000000000000000000000000000000...</td>\n",
       "      <td>[0xf4626fd1187f91e6761ffb8a6ac3e8d9235a4a92da5...</td>\n",
       "      <td>2020-04-24 03:35:29+00:00</td>\n",
       "      <td>9932800</td>\n",
       "      <td>0x8566e7541324048538f5f0acdc1a95a386802d1fd462...</td>\n",
       "    </tr>\n",
       "    <tr>\n",
       "      <th>1</th>\n",
       "      <td>28</td>\n",
       "      <td>0xf4ce2091e07c4e9944a9a3017dc1d308a0f78448d152...</td>\n",
       "      <td>20</td>\n",
       "      <td>0x1e0447b19bb6ecfdae1e4ae1694b0c3659614e4e</td>\n",
       "      <td>0x00000000000000000000000000000000000000000000...</td>\n",
       "      <td>[0xf4626fd1187f91e6761ffb8a6ac3e8d9235a4a92da5...</td>\n",
       "      <td>2020-04-24 03:35:29+00:00</td>\n",
       "      <td>9932800</td>\n",
       "      <td>0x8566e7541324048538f5f0acdc1a95a386802d1fd462...</td>\n",
       "    </tr>\n",
       "    <tr>\n",
       "      <th>2</th>\n",
       "      <td>27</td>\n",
       "      <td>0xf4ce2091e07c4e9944a9a3017dc1d308a0f78448d152...</td>\n",
       "      <td>20</td>\n",
       "      <td>0x1e0447b19bb6ecfdae1e4ae1694b0c3659614e4e</td>\n",
       "      <td>0x000000000000000000000000a8b39829ce2246f89b31...</td>\n",
       "      <td>[0x91b01baeee3a24b590d112613814d86801005c7ef93...</td>\n",
       "      <td>2020-04-24 03:35:29+00:00</td>\n",
       "      <td>9932800</td>\n",
       "      <td>0x8566e7541324048538f5f0acdc1a95a386802d1fd462...</td>\n",
       "    </tr>\n",
       "    <tr>\n",
       "      <th>3</th>\n",
       "      <td>32</td>\n",
       "      <td>0xf4ce2091e07c4e9944a9a3017dc1d308a0f78448d152...</td>\n",
       "      <td>20</td>\n",
       "      <td>0x1e0447b19bb6ecfdae1e4ae1694b0c3659614e4e</td>\n",
       "      <td>0x00000000000000000000000000000000000000000000...</td>\n",
       "      <td>[0x2bad8bc95088af2c247b30fa2b2e6a0886f88625e09...</td>\n",
       "      <td>2020-04-24 03:35:29+00:00</td>\n",
       "      <td>9932800</td>\n",
       "      <td>0x8566e7541324048538f5f0acdc1a95a386802d1fd462...</td>\n",
       "    </tr>\n",
       "    <tr>\n",
       "      <th>4</th>\n",
       "      <td>30</td>\n",
       "      <td>0xf4ce2091e07c4e9944a9a3017dc1d308a0f78448d152...</td>\n",
       "      <td>20</td>\n",
       "      <td>0x1e0447b19bb6ecfdae1e4ae1694b0c3659614e4e</td>\n",
       "      <td>0x00000000000000000000000000000000000000000000...</td>\n",
       "      <td>[0xf4626fd1187f91e6761ffb8a6ac3e8d9235a4a92da5...</td>\n",
       "      <td>2020-04-24 03:35:29+00:00</td>\n",
       "      <td>9932800</td>\n",
       "      <td>0x8566e7541324048538f5f0acdc1a95a386802d1fd462...</td>\n",
       "    </tr>\n",
       "  </tbody>\n",
       "</table>\n",
       "</div>"
      ],
      "text/plain": [
       "   log_index                                   transaction_hash  \\\n",
       "0         29  0xf4ce2091e07c4e9944a9a3017dc1d308a0f78448d152...   \n",
       "1         28  0xf4ce2091e07c4e9944a9a3017dc1d308a0f78448d152...   \n",
       "2         27  0xf4ce2091e07c4e9944a9a3017dc1d308a0f78448d152...   \n",
       "3         32  0xf4ce2091e07c4e9944a9a3017dc1d308a0f78448d152...   \n",
       "4         30  0xf4ce2091e07c4e9944a9a3017dc1d308a0f78448d152...   \n",
       "\n",
       "   transaction_index                                     address  \\\n",
       "0                 20  0x1e0447b19bb6ecfdae1e4ae1694b0c3659614e4e   \n",
       "1                 20  0x1e0447b19bb6ecfdae1e4ae1694b0c3659614e4e   \n",
       "2                 20  0x1e0447b19bb6ecfdae1e4ae1694b0c3659614e4e   \n",
       "3                 20  0x1e0447b19bb6ecfdae1e4ae1694b0c3659614e4e   \n",
       "4                 20  0x1e0447b19bb6ecfdae1e4ae1694b0c3659614e4e   \n",
       "\n",
       "                                                data  \\\n",
       "0  0x00000000000000000000000000000000000000000000...   \n",
       "1  0x00000000000000000000000000000000000000000000...   \n",
       "2  0x000000000000000000000000a8b39829ce2246f89b31...   \n",
       "3  0x00000000000000000000000000000000000000000000...   \n",
       "4  0x00000000000000000000000000000000000000000000...   \n",
       "\n",
       "                                              topics  \\\n",
       "0  [0xf4626fd1187f91e6761ffb8a6ac3e8d9235a4a92da5...   \n",
       "1  [0xf4626fd1187f91e6761ffb8a6ac3e8d9235a4a92da5...   \n",
       "2  [0x91b01baeee3a24b590d112613814d86801005c7ef93...   \n",
       "3  [0x2bad8bc95088af2c247b30fa2b2e6a0886f88625e09...   \n",
       "4  [0xf4626fd1187f91e6761ffb8a6ac3e8d9235a4a92da5...   \n",
       "\n",
       "            block_timestamp  block_number  \\\n",
       "0 2020-04-24 03:35:29+00:00       9932800   \n",
       "1 2020-04-24 03:35:29+00:00       9932800   \n",
       "2 2020-04-24 03:35:29+00:00       9932800   \n",
       "3 2020-04-24 03:35:29+00:00       9932800   \n",
       "4 2020-04-24 03:35:29+00:00       9932800   \n",
       "\n",
       "                                          block_hash  \n",
       "0  0x8566e7541324048538f5f0acdc1a95a386802d1fd462...  \n",
       "1  0x8566e7541324048538f5f0acdc1a95a386802d1fd462...  \n",
       "2  0x8566e7541324048538f5f0acdc1a95a386802d1fd462...  \n",
       "3  0x8566e7541324048538f5f0acdc1a95a386802d1fd462...  \n",
       "4  0x8566e7541324048538f5f0acdc1a95a386802d1fd462...  "
      ]
     },
     "execution_count": 10,
     "metadata": {},
     "output_type": "execute_result"
    }
   ],
   "source": [
    "df.head()"
   ]
  },
  {
   "cell_type": "code",
   "execution_count": 11,
   "metadata": {},
   "outputs": [],
   "source": [
    "df['name'] = df.apply(get_event_name, events=events, axis=1)"
   ]
  },
  {
   "cell_type": "code",
   "execution_count": 12,
   "metadata": {},
   "outputs": [],
   "source": [
    "df['abi'] = df.apply(get_event_abi, events=events, axis=1)\n",
    "df['decoded'] = df.apply(decode_log, events=events, axis=1)"
   ]
  },
  {
   "cell_type": "code",
   "execution_count": 13,
   "metadata": {},
   "outputs": [
    {
     "data": {
      "text/plain": [
       "0       {'market': 2, 'index': (1069146506681643882, 1...\n",
       "1       {'market': 0, 'index': (1008992078034401791, 1...\n",
       "2       {'sender': '0xa8b39829ce2246f89b31c013b8cde155...\n",
       "3       {'accountOwner': '0xbfae42a79ff045659dd0f84e65...\n",
       "4       {'market': 3, 'index': (1027250897706841332, 1...\n",
       "                              ...                        \n",
       "3961    {'market': 3, 'index': (1027325746190374375, 1...\n",
       "3962    {'accountOwner': '0xbf0b21a1e94ed688cc76fb171c...\n",
       "3963    {'accountOwner': '0x35548b074977d00f70c1bd9115...\n",
       "3964    {'market': 0, 'index': (1009025334207113241, 1...\n",
       "3965    {'sender': '0xa8b39829ce2246f89b31c013b8cde155...\n",
       "Name: decoded, Length: 3966, dtype: object"
      ]
     },
     "execution_count": 13,
     "metadata": {},
     "output_type": "execute_result"
    }
   ],
   "source": [
    "df['decoded']"
   ]
  }
 ],
 "metadata": {
  "kernelspec": {
   "display_name": "Python 3",
   "language": "python",
   "name": "python3"
  },
  "language_info": {
   "codemirror_mode": {
    "name": "ipython",
    "version": 3
   },
   "file_extension": ".py",
   "mimetype": "text/x-python",
   "name": "python",
   "nbconvert_exporter": "python",
   "pygments_lexer": "ipython3",
   "version": "3.6.9"
  }
 },
 "nbformat": 4,
 "nbformat_minor": 4
}
